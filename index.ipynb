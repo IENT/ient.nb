{
 "cells": [
  {
   "cell_type": "markdown",
   "metadata": {},
   "source": [
    "<div>\n",
    "    <img src=\"figures/rwth_ient_logo@2x.png\" style=\"float: right;height: 5em;\">\n",
    "</div>\n",
    "\n",
    "# ient.nb\n",
    "\n",
    "## Introduction\n",
    "\n",
    "This project consists of Jupyter Notebook definitions used by Institut für Nachrichtentechnik (IENT), RWTH Aachen University.\n",
    "\n",
    "\n",
    "## Table of Contents\n",
    "\n",
    "* [Interactive Demo](Interactive%20Demo.ipynb)\n",
    "* [RWTH Colors](RWTH%20Colors.ipynb)\n",
    "* [Signals](Signals.ipynb)\n",
    "* [Audio](Audio.ipynb)\n",
    "\n",
    "\n",
    "## Jupyter Quick Start\n",
    "\n",
    "* To run all cells of a notebook: In the menu: Cell <span class=\"fa-chevron-right fa\"></span> Run All\n",
    "* To restart the kernel and run all cells: <span class=\"fa-forward fa\"></span>-Button\n",
    "* To run a single cell: <span class=\"fa-step-forward fa\"></span> Run-Button\n",
    "\n",
    "\n",
    "## Contributors\n",
    "\n",
    "* [Christian Rohlfing](http://www.ient.rwth-aachen.de/cms/c_rohlfing/)"
   ]
  },
  {
   "cell_type": "markdown",
   "metadata": {},
   "source": [
    "The code is licensed under the [MIT license](https://opensource.org/licenses/MIT)."
   ]
  }
 ],
 "metadata": {
  "kernelspec": {
   "display_name": "Python 3",
   "language": "python",
   "name": "python3"
  },
  "language_info": {
   "codemirror_mode": {
    "name": "ipython",
    "version": 3
   },
   "file_extension": ".py",
   "mimetype": "text/x-python",
   "name": "python",
   "nbconvert_exporter": "python",
   "pygments_lexer": "ipython3",
   "version": "3.6.7"
  },
  "toc": {
   "base_numbering": 1,
   "nav_menu": {},
   "number_sections": true,
   "sideBar": true,
   "skip_h1_title": false,
   "title_cell": "Table of Contents",
   "title_sidebar": "Contents",
   "toc_cell": false,
   "toc_position": {},
   "toc_section_display": true,
   "toc_window_display": false
  }
 },
 "nbformat": 4,
 "nbformat_minor": 2
}
