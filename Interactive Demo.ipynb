{
 "cells": [
  {
   "cell_type": "code",
   "execution_count": null,
   "metadata": {
    "hide_input": true
   },
   "outputs": [],
   "source": [
    "%%html\n",
    "<style>\n",
    ".output_wrapper button.btn.btn-default,\n",
    ".output_wrapper .ui-dialog-titlebar {\n",
    "  display: none;\n",
    "}\n",
    "</style>"
   ]
  },
  {
   "cell_type": "markdown",
   "metadata": {},
   "source": [
    "<div>\n",
    "    <img src=\"figures/rwth_ient_logo@2x.png\" style=\"float: right;height: 5em;\">\n",
    "</div>\n",
    "\n",
    "# Interactive Demo\n",
    "\n",
    "This notebook shows an easy interactive demo.\n",
    "\n",
    "First, import necessary packets. \n",
    "\n",
    "* `ipywidgets` has a great documentation [https://ipywidgets.readthedocs.io/en/stable/user_guide.html] with a lot of examples [https://github.com/jupyter-widgets/ipywidgets/tree/master/docs/source/examples].\n",
    "* `ient_plots` creates mainly axis labels styles which are commonly used in IENT."
   ]
  },
  {
   "cell_type": "code",
   "execution_count": null,
   "metadata": {},
   "outputs": [],
   "source": [
    "%matplotlib notebook\n",
    "\n",
    "from ipywidgets import interact, interactive, fixed\n",
    "import ipywidgets as widgets\n",
    "from IPython.display import clear_output, display, HTML\n",
    "from IPython.display import Markdown as md\n",
    "\n",
    "import numpy as np\n",
    "from scipy import integrate\n",
    "from scipy import signal\n",
    "\n",
    "from ient_plots import *"
   ]
  },
  {
   "cell_type": "markdown",
   "metadata": {},
   "source": [
    "Main plot routine. First, random values are sampled, then binned by a histogram and finally plotted."
   ]
  },
  {
   "cell_type": "code",
   "execution_count": null,
   "metadata": {},
   "outputs": [],
   "source": [
    "(t,deltat) = np.linspace(-4, 4, 1001, retstep=True) # t-axis\n",
    "lim_hist = 7 # limit of histogram (the total range would be from -lim_hist to lim_hist)\n",
    "\n",
    "\n",
    "def update_plots(axs,ms,sigmas,dist_type):\n",
    "    \n",
    "    # Sample from given distribution\n",
    "    if dist_type == 'Normal':\n",
    "        s = np.random.normal(ms,sigmas,len(t))\n",
    "    elif dist_type == 'Uniform':\n",
    "        c = np.sqrt(12*sigmas**2)\n",
    "        a = -0.5*c+ms\n",
    "        b = 0.5*c+ms\n",
    "        s = np.random.uniform(a,b,len(t))\n",
    "    \n",
    "    # Calculate histogram to estimate p_s(x)\n",
    "    ps,bins = np.histogram(s,bins='auto',range=(-lim_hist,lim_hist),density=True)\n",
    "    x = (bins[:-1] + bins[1:]) / 2 # x-axis\n",
    "    \n",
    "    if axs[0].lines: # check if lines exist\n",
    "        # If yes, replace only xdata and ydata since plt.plot() takes longer time\n",
    "        # Usually, these functions should not take too much processing time\n",
    "        axs[0].lines[0].set_xdata(t); \n",
    "        axs[0].lines[0].set_ydata(s);\n",
    "\n",
    "        axs[1].lines[0].set_xdata(x); \n",
    "        axs[1].lines[0].set_ydata(ps);\n",
    "        \n",
    "    else:\n",
    "        # If no, call plot() and decorate axes\n",
    "        # Usually, these functions take some processing time\n",
    "        \n",
    "        # First axis displays stoch. process s(t) in time-domain\n",
    "        ax = axs[0]\n",
    "        ax.plot(t,s)\n",
    "        ax.set_xlabel(r'$\\rightarrow t$'); ax.set_ylabel(r'$\\uparrow s(t)$'); \n",
    "        ax.set_yticks(list(range(-lim_hist,lim_hist,2)))\n",
    "        ax.set_xlim([-3.5,5.5]); ax.set_ylim([-5.5,6.5])\n",
    "        ient_axis(ax)\n",
    "\n",
    "        # Second axis displays prob. density function p_s(x)\n",
    "        ax = axs[1]\n",
    "        ax.plot(x,ps)\n",
    "        ax.set_xlabel(r'$\\rightarrow x$'); ax.set_ylabel(r'$\\uparrow p_s(x)$'); \n",
    "        ax.set_xticks(list(range(-lim_hist,lim_hist,2)))\n",
    "        ax.set_xlim(axs[0].get_ylim()); ax.set_ylim([-0.05,0.75])\n",
    "        ient_axis(ax)\n",
    "        #axs[1].set_xticks(axs[0].get_yticks())"
   ]
  },
  {
   "cell_type": "markdown",
   "metadata": {},
   "source": [
    "Next, the widgets are created at once with `interactive`, which on update calls `update_plots` defined in the cell above.  "
   ]
  },
  {
   "cell_type": "code",
   "execution_count": null,
   "metadata": {},
   "outputs": [],
   "source": [
    "# Open figure\n",
    "fig, axs = plt.subplots(1, 2, figsize=(8,3))\n",
    "\n",
    "# Interactive takes a function as first input and maps the inputs of the function as widgets.\n",
    "wdgts = interactive(update_plots,\n",
    "                axs = fixed(axs), # no widget for axs :)\n",
    "                ms = widgets.FloatSlider(min=-2, max=2, step=0.1, value=0, description='$m_s$:'),\n",
    "                sigmas = widgets.FloatSlider(min=0.1, max=2, step=0.1, value=1, description='$\\sigma_s$:'),\n",
    "                dist_type = widgets.Dropdown(options=['Normal', 'Uniform'], description='Distribution:'));\n",
    "\n",
    "# Additionally, we create an update button which manually updates update_plots\n",
    "update_button = widgets.Button(description=\"Update\")\n",
    "def on_button_clicked(b):\n",
    "    wdgts.update()\n",
    "update_button.on_click(on_button_clicked)\n",
    "\n",
    "# Group widgets with a horizontal box\n",
    "hbox = widgets.HBox(children=[wdgts, update_button])\n",
    "display(hbox)"
   ]
  },
  {
   "cell_type": "markdown",
   "metadata": {},
   "source": [
    "Here, we could write some descriptive text to explain which signals are plotted and how they behave."
   ]
  },
  {
   "cell_type": "code",
   "execution_count": null,
   "metadata": {},
   "outputs": [],
   "source": []
  }
 ],
 "metadata": {
  "kernelspec": {
   "display_name": "Python 3",
   "language": "python",
   "name": "python3"
  },
  "language_info": {
   "codemirror_mode": {
    "name": "ipython",
    "version": 3
   },
   "file_extension": ".py",
   "mimetype": "text/x-python",
   "name": "python",
   "nbconvert_exporter": "python",
   "pygments_lexer": "ipython3",
   "version": "3.6.7"
  },
  "toc": {
   "base_numbering": 1,
   "nav_menu": {},
   "number_sections": true,
   "sideBar": true,
   "skip_h1_title": false,
   "title_cell": "Table of Contents",
   "title_sidebar": "Contents",
   "toc_cell": false,
   "toc_position": {},
   "toc_section_display": true,
   "toc_window_display": false
  }
 },
 "nbformat": 4,
 "nbformat_minor": 2
}
