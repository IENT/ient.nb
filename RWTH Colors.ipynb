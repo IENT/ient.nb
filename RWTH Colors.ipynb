{
 "cells": [
  {
   "cell_type": "code",
   "execution_count": null,
   "metadata": {},
   "outputs": [],
   "source": [
    "# Copyright 2019 Institut für Nachrichtentechnik, RWTH Aachen University\n",
    "%matplotlib notebook\n",
    "\n",
    "from ient_plots import *\n",
    "from ient_signals import *"
   ]
  },
  {
   "cell_type": "markdown",
   "metadata": {},
   "source": [
    "<div>\n",
    "    <img src=\"figures/rwth_ient_logo@2x.png\" style=\"float: right;height: 5em;\">\n",
    "</div>\n",
    "\n",
    "# RWTH Colors\n",
    "\n",
    "When using `ient_plots`, the RWTH [Corporate Design](http://www.rwth-aachen.de/cms/root/Die-RWTH/Einrichtungen/Verwaltung/Stabsstellen/Marketing/~eqbm/Corporate-Design/) color scheme is propagated to Matplotlib. The following colors may be used:"
   ]
  },
  {
   "cell_type": "code",
   "execution_count": null,
   "metadata": {},
   "outputs": [],
   "source": [
    "# adapted from https://matplotlib.org/2.0.0/examples/color/named_colors.html\n",
    "colors = rwth_colors;\n",
    "ncols = 5; nrows = len(colors.keys()) // ncols + 1;\n",
    "\n",
    "fig, ax = plt.subplots(figsize=(8, 5))\n",
    "X, Y = fig.get_dpi() * fig.get_size_inches() # Get height and width\n",
    "w = X / ncols; h = Y / (nrows + 1)\n",
    "\n",
    "for i, name in enumerate(colors.keys()):\n",
    "    col = i % ncols\n",
    "    row = i // ncols\n",
    "    y = Y - (row * h) - h\n",
    "\n",
    "    xi_line = w * (col + 0.05); xf_line = w * (col + 0.25); xi_text = w * (col + 0.3)\n",
    "    ax.text(xi_text, y, name, fontsize=10, horizontalalignment='left', verticalalignment='center')\n",
    "    ax.hlines(y + h * 0.1, xi_line, xf_line, color=colors[name], linewidth=(h * 0.6))\n",
    "\n",
    "ax.set_xlim(0, X); ax.set_ylim(0, Y); ax.set_axis_off();\n",
    "fig.subplots_adjust(left=0, right=1, top=1, bottom=0, hspace=0, wspace=0)"
   ]
  },
  {
   "cell_type": "markdown",
   "metadata": {},
   "source": [
    "Example how to use the colors for plotting:"
   ]
  },
  {
   "cell_type": "code",
   "execution_count": null,
   "metadata": {},
   "outputs": [],
   "source": [
    "fig,ax = plt.subplots(1,1); \n",
    "ax.plot(t, rect(t), 'rwth', label=r'$\\mathrm{rect}(t)$');\n",
    "ax.plot(t, tri(t),  'grun', label=r'$\\Lambda(t)$'); \n",
    "ax.set_xlabel(r'$\\rightarrow t$'); ax.set_xlim([-2.2,2.2]); ax.legend(); ient_axis(ax);"
   ]
  },
  {
   "cell_type": "markdown",
   "metadata": {},
   "source": [
    "This code is licensed under the [MIT license](https://opensource.org/licenses/MIT)."
   ]
  }
 ],
 "metadata": {
  "kernelspec": {
   "display_name": "Python 3",
   "language": "python",
   "name": "python3"
  },
  "language_info": {
   "codemirror_mode": {
    "name": "ipython",
    "version": 3
   },
   "file_extension": ".py",
   "mimetype": "text/x-python",
   "name": "python",
   "nbconvert_exporter": "python",
   "pygments_lexer": "ipython3",
   "version": "3.6.7"
  }
 },
 "nbformat": 4,
 "nbformat_minor": 2
}
