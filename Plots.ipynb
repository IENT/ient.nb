{
 "cells": [
  {
   "cell_type": "code",
   "execution_count": null,
   "metadata": {},
   "outputs": [],
   "source": [
    "# Copyright 2019 Institut für Nachrichtentechnik, RWTH Aachen University\n",
    "%matplotlib notebook\n",
    "\n",
    "import numpy as np\n",
    "\n",
    "from ient_plots import *\n",
    "from ient_signals import *"
   ]
  },
  {
   "cell_type": "markdown",
   "metadata": {},
   "source": [
    "<div>\n",
    "    <img src=\"figures/rwth_ient_logo@2x.png\" style=\"float: right;height: 5em;\">\n",
    "</div>\n",
    "\n",
    "# Plots"
   ]
  },
  {
   "cell_type": "markdown",
   "metadata": {},
   "source": [
    "## Axis style\n",
    "\n",
    "`ient_axis(ax)`"
   ]
  },
  {
   "cell_type": "code",
   "execution_count": null,
   "metadata": {},
   "outputs": [],
   "source": [
    "fig,ax = plt.subplots(1,1); ax.plot(t, gauss(t), 'rwth');\n",
    "ax.set_xlabel(r'$\\rightarrow t$'); ax.set_ylabel(r'$\\uparrow s(t)=\\mathrm{e}^{-\\pi t^2}$', bbox=ient_wbbox)\n",
    "ax.axis('equal'); ax.set_xlim([-2.75, 2.75]); \n",
    "ient_axis(ax);"
   ]
  },
  {
   "cell_type": "markdown",
   "metadata": {},
   "source": [
    "`ient_grid(ax)`"
   ]
  },
  {
   "cell_type": "code",
   "execution_count": null,
   "metadata": {},
   "outputs": [],
   "source": [
    "fig,ax = plt.subplots(1,1); ax.plot(t, gauss(t), 'rwth');\n",
    "ax.set_xlabel(r'$\\rightarrow t$'); ax.set_ylabel(r'$\\uparrow s(t)=\\mathrm{e}^{-\\pi t^2}$', bbox=ient_wbbox)\n",
    "ax.axis('equal'); ax.set_xlim([-2.75, 2.75]); \n",
    "ient_grid(ax); ient_axis(ax);"
   ]
  },
  {
   "cell_type": "markdown",
   "metadata": {},
   "source": [
    "## Special function plots\n",
    "\n",
    "`ient_plot_dirac(ax, x, y, color, **kwargs)`"
   ]
  },
  {
   "cell_type": "code",
   "execution_count": null,
   "metadata": {},
   "outputs": [],
   "source": [
    "fig,ax = plt.subplots(1,1); \n",
    "gnarg = ient_plot_dirac(ax, 0, 2, 'rwth');\n",
    "ient_dirac_weights(ax, 0, 2, 2, color='black')\n",
    "ax.set_xlim([-2.75, 2.75]); ax.set_ylim([0, 2.4]); ient_grid(ax); ient_axis(ax);"
   ]
  },
  {
   "cell_type": "code",
   "execution_count": null,
   "metadata": {},
   "outputs": [],
   "source": [
    "nT = np.linspace(-2,2,21)\n",
    "\n",
    "fig,ax = plt.subplots(); ax.plot(t, si(np.pi*t), 'k--');\n",
    "ient_plot_dirac(ax, nT, si(np.pi*nT), 'rot')\n",
    "ax.set_xlim([-2, 2]); ient_axis(ax);"
   ]
  },
  {
   "cell_type": "markdown",
   "metadata": {},
   "source": [
    "## Pole-Zero Plots"
   ]
  },
  {
   "cell_type": "markdown",
   "metadata": {},
   "source": [
    "### Continuous-Time (Laplace-Transfrom)\n",
    "`ient_plot_lroc(ax, roc, xmax=12, ymax=12)`"
   ]
  },
  {
   "cell_type": "code",
   "execution_count": null,
   "metadata": {},
   "outputs": [],
   "source": [
    "pp = np.array([-1, 1+1j]); pz = np.array([0, 3-1j]) # Zeros # Poles and Zeros\n",
    "ord_p = np.array([1, 2]); ord_z = np.array([1, 2]) # Poles' and Zeros' orders\n",
    "\n",
    "roc = np.array([np.max(np.real(pp)), np.inf]) # region of convergence\n",
    "\n",
    "\n",
    "fig, ax = plt.subplots()\n",
    "\n",
    "ax.set_xlabel(r'$\\rightarrow \\mathrm{Re}$'); ax.set_ylabel(r'$\\uparrow \\mathrm{Im}$');\n",
    "ax.set_xlim(-5, 5); ax.set_ylim(-5, 5); ient_grid(ax); ient_axis(ax); ax.set_title('Pole Zero Diagram');\n",
    "\n",
    "ax.plot(np.real(pp), np.imag(pp), **ient_style_poles); ax.plot(np.real(pp), -np.imag(pp), **ient_style_poles);\n",
    "ax.plot(np.real(pz), np.imag(pz), **ient_style_zeros); ax.plot(np.real(pz), -np.imag(pz), **ient_style_zeros);\n",
    "\n",
    "ient_annotate_order(ax, pp, ord_p)\n",
    "ient_annotate_order(ax, pz, ord_z)\n",
    "ient_plot_lroc(ax, roc)"
   ]
  },
  {
   "cell_type": "markdown",
   "metadata": {},
   "source": [
    "### Discrete-Time (z-Transform)\n",
    "`ient_plot_zroc(ax, roc, rmax=12)`"
   ]
  },
  {
   "cell_type": "code",
   "execution_count": null,
   "metadata": {},
   "outputs": [],
   "source": [
    "zp = np.array([0.5, 1+1j]); zz = np.array([0])\n",
    "ord_p = np.array([1, 1]); ord_z = np.array([1])\n",
    "\n",
    "roc = np.array([0.5, 1+1j])\n",
    "\n",
    "\n",
    "fig, ax = plt.subplots()\n",
    "\n",
    "ax.set_xlabel(r'$\\rightarrow \\mathrm{Re}$'); ax.set_ylabel(r'$\\uparrow \\mathrm{Im}$');\n",
    "ax.set_xlim(-5, 5); ax.set_ylim(-5, 5); ient_grid(ax); ient_axis(ax); ax.set_title('Pole Zero Diagram');\n",
    "ax.set_aspect('equal')\n",
    "\n",
    "ax.plot(np.real(zp), np.imag(zp), **ient_style_poles); ax.plot(np.real(zp), -np.imag(zp), **ient_style_poles);\n",
    "ax.plot(np.real(zz), np.imag(zz), **ient_style_zeros); ax.plot(np.real(zz), -np.imag(zz), **ient_style_zeros);\n",
    "\n",
    "ient_annotate_order(ax, zp, ord_p)\n",
    "ient_annotate_order(ax, zz, ord_z)\n",
    "ient_plot_zroc(ax, roc)"
   ]
  },
  {
   "cell_type": "markdown",
   "metadata": {},
   "source": [
    "[RWTH Colors](RWTH%20Colors.ipynb) are defined as well."
   ]
  },
  {
   "cell_type": "markdown",
   "metadata": {},
   "source": [
    "This code is licensed under the [MIT license](https://opensource.org/licenses/MIT)."
   ]
  }
 ],
 "metadata": {
  "kernelspec": {
   "display_name": "Python 3",
   "language": "python",
   "name": "python3"
  },
  "language_info": {
   "codemirror_mode": {
    "name": "ipython",
    "version": 3
   },
   "file_extension": ".py",
   "mimetype": "text/x-python",
   "name": "python",
   "nbconvert_exporter": "python",
   "pygments_lexer": "ipython3",
   "version": "3.6.7"
  }
 },
 "nbformat": 4,
 "nbformat_minor": 2
}
