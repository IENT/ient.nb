{
 "cells": [
  {
   "cell_type": "code",
   "execution_count": null,
   "metadata": {},
   "outputs": [],
   "source": [
    "# Copyright 2019 Institut für Nachrichtentechnik, RWTH Aachen University\n",
    "%matplotlib notebook\n",
    "\n",
    "from ient_plots import *\n",
    "from ient_signals import *"
   ]
  },
  {
   "cell_type": "markdown",
   "metadata": {},
   "source": [
    "<div>\n",
    "    <img src=\"figures/rwth_ient_logo@2x.png\" style=\"float: right;height: 5em;\">\n",
    "</div>\n",
    "\n",
    "# Signals\n",
    "\n",
    "## Contents\n",
    "\n",
    "Following signals are defined in `ient_signals`:\n",
    "\n",
    "``` python\n",
    "gauss     = lambda t: np.exp(-(t)**2)\n",
    "unitstep  = lambda t: np.where(t>=0, 1, 0)\n",
    "rect      = lambda t: unitstep(t+0.5) - unitstep(t-0.5)\n",
    "tri       = lambda t: rect(t/2)*(1-abs(t))\n",
    "si        = lambda t: np.sinc(t/np.pi) # English notation sinc(t) = sin(pi t)/(pi t)\n",
    "```"
   ]
  },
  {
   "cell_type": "markdown",
   "metadata": {},
   "source": [
    "## Plots\n",
    "\n",
    "### Gaussian signal\n",
    "\n",
    "$\\displaystyle s(t) = \\mathrm{e}^{\\pi t^2}$"
   ]
  },
  {
   "cell_type": "code",
   "execution_count": null,
   "metadata": {},
   "outputs": [],
   "source": [
    "fig,ax = plt.subplots(1,1); ax.plot(t, gauss(t), 'rwth');\n",
    "ax.set_xlabel(r'$\\rightarrow t$'); ax.set_ylabel(r'$\\uparrow s(t)=\\mathrm{e}^{-\\pi t^2}$', bbox=ient_wbbox)\n",
    "ax.axis('equal'); ax.set_xlim([-2.75, 2.75]); ient_grid(ax); ient_axis(ax);"
   ]
  },
  {
   "cell_type": "markdown",
   "metadata": {},
   "source": [
    "### Step function\n",
    "$\\epsilon(t)=\\begin{cases}\n",
    "    0\\quad\\text{for}\\ t<0 \\\\\n",
    "    1\\quad\\text{for}\\ t\\geq 0 \\text{ .}\n",
    "\\end{cases}$"
   ]
  },
  {
   "cell_type": "code",
   "execution_count": null,
   "metadata": {},
   "outputs": [],
   "source": [
    "fig,ax = plt.subplots(1,1); ax.plot(t, unitstep(t), 'rwth'); \n",
    "ax.set_xlabel(r'$\\rightarrow t$'); ax.set_ylabel(r'$\\uparrow s(t)=\\epsilon(t)$', bbox=ient_wbbox)\n",
    "ax.axis('equal'); ax.set_xlim([-2.25,2.25]); ient_grid(ax); ient_axis(ax);"
   ]
  },
  {
   "cell_type": "markdown",
   "metadata": {},
   "source": [
    "### Rectangular impulse\n",
    "\n",
    "$\\mathrm{rect}(t) = \\begin{cases}\n",
    "    1\\quad\\text{for}\\ |t| \\leq 1/2\\\\\n",
    "    0\\quad\\text{for}\\ |t| > 1/2\\text{ .}\n",
    "\\end{cases}$"
   ]
  },
  {
   "cell_type": "code",
   "execution_count": null,
   "metadata": {},
   "outputs": [],
   "source": [
    "fig,ax = plt.subplots(1,1); ax.plot(t, rect(t), 'rwth');\n",
    "ax.set_xlabel(r'$\\rightarrow t$'); ax.set_ylabel(r'$\\uparrow s(t)=\\mathrm{rect}(t)$', bbox=ient_wbbox)\n",
    "ax.axis('equal'); ax.set_xlim([-2.25,2.25]); ient_grid(ax); ient_axis(ax);"
   ]
  },
  {
   "cell_type": "markdown",
   "metadata": {},
   "source": [
    "### Triangular impulse\n",
    "$\\Lambda(t) = \\begin{cases}\n",
    "  1-|t|\\quad\\text{for}\\ |t|\\leq 1\\\\\n",
    "  0\\quad\\text{for}\\ |t| > 1\\text{ .}\n",
    "\\end{cases}$"
   ]
  },
  {
   "cell_type": "code",
   "execution_count": null,
   "metadata": {},
   "outputs": [],
   "source": [
    "fig,ax = plt.subplots(1,1); ax.plot(t, tri(t), 'rwth');\n",
    "ax.set_xlabel(r'$\\rightarrow t$'); ax.set_ylabel(r'$\\uparrow s(t)=\\Lambda(t)$', bbox=ient_wbbox)\n",
    "ax.axis('equal'); ax.set_xlim([-2.25,2.25]); ient_grid(ax); ient_axis(ax);"
   ]
  },
  {
   "cell_type": "markdown",
   "metadata": {},
   "source": [
    "### Si-Funktion\n",
    "$\\displaystyle \\mathrm{si}(t) = \\frac{\\sin(t)}{t}$"
   ]
  },
  {
   "cell_type": "code",
   "execution_count": null,
   "metadata": {},
   "outputs": [],
   "source": [
    "fig,ax = plt.subplots(1,1); ax.plot(t, si(np.pi*t), 'rwth');\n",
    "ax.set_xlabel(r'$\\rightarrow t$'); ax.set_ylabel(r'$\\uparrow s(t)=\\mathrm{si}(\\pi t)$', bbox=ient_wbbox)\n",
    "ax.set_xlim([-5.5,5.5]); ient_grid(ax); ient_axis(ax);"
   ]
  },
  {
   "cell_type": "markdown",
   "metadata": {},
   "source": [
    "This code is licensed under the [MIT license](https://opensource.org/licenses/MIT)."
   ]
  }
 ],
 "metadata": {
  "kernelspec": {
   "display_name": "Python 3",
   "language": "python",
   "name": "python3"
  },
  "language_info": {
   "codemirror_mode": {
    "name": "ipython",
    "version": 3
   },
   "file_extension": ".py",
   "mimetype": "text/x-python",
   "name": "python",
   "nbconvert_exporter": "python",
   "pygments_lexer": "ipython3",
   "version": "3.6.7"
  }
 },
 "nbformat": 4,
 "nbformat_minor": 2
}
