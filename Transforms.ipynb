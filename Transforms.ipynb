{
 "cells": [
  {
   "cell_type": "code",
   "execution_count": null,
   "metadata": {},
   "outputs": [],
   "source": [
    "# Copyright 2019 Institut für Nachrichtentechnik, RWTH Aachen University\n",
    "%matplotlib notebook\n",
    "\n",
    "from ient_plots import *\n",
    "from ient_transforms import *"
   ]
  },
  {
   "cell_type": "markdown",
   "metadata": {},
   "source": [
    "<div>\n",
    "    <img src=\"figures/rwth_ient_logo@2x.png\" style=\"float: right;height: 5em;\">\n",
    "</div>\n",
    "\n",
    "# Transforms\n",
    "\n",
    "## Contents\n",
    "\n",
    "Following transforms are defined in `ient_transforms`:\n",
    "\n",
    "``` python\n",
    "ient_dft(s, fs, NFFT)\n",
    "ient_idft(S, Ntime, NFFT)\n",
    "ient_ilaplace_ht(t, H0, pp, pz, ord_p, ord_z, roc)\n",
    "ient_ilaplace_Hf(f, H0, pp, pz, ord_p, ord_z, dB)\n",
    "```"
   ]
  },
  {
   "cell_type": "markdown",
   "metadata": {},
   "source": [
    "## Fourier Transform"
   ]
  },
  {
   "cell_type": "code",
   "execution_count": null,
   "metadata": {},
   "outputs": [],
   "source": [
    "# Time Domain\n",
    "fs = 44100 # very high sampling rate assumed, to simulate quasi-continuous time and frequency axis\n",
    "t = np.linspace(-2.5, 2.5, 5*fs)\n",
    "s = np.sin(2*np.pi*500*t)\n",
    "\n",
    "# Fourier Transform\n",
    "S,f = ient_dft(s, fs)\n",
    "\n",
    "fig,axs = plt.subplots(2,1, figsize=(8,6)); \n",
    "ax = axs[0]; ax.plot(t*1000, s, 'rwth');\n",
    "ax.set_xlabel(r'$\\rightarrow t$ [ms]', bbox=ient_wbbox); ax.set_ylabel(r'$\\uparrow s(t)$', bbox=ient_wbbox)\n",
    "ax.set_xlim([-11, 11]); ax.set_ylim([-1.1, 1.19]); ient_axis(ax);\n",
    "\n",
    "ax = axs[1]; ax.plot(f, np.abs(S), 'rwth');\n",
    "ax.set_xlabel(r'$\\rightarrow f$ [Hz]', bbox=ient_wbbox); ax.set_ylabel(r'$\\uparrow |S(f)|$', bbox=ient_wbbox)\n",
    "ax.set_xlim([-1100, 1100]); ax.set_ylim([0, 0.65]); ient_axis(ax);"
   ]
  },
  {
   "cell_type": "markdown",
   "metadata": {},
   "source": [
    "Inverse Fourier transform"
   ]
  },
  {
   "cell_type": "code",
   "execution_count": null,
   "metadata": {},
   "outputs": [],
   "source": [
    "s2 = ient_idft(S, len(s));\n",
    "\n",
    "fig,ax = plt.subplots(1,1, figsize=(8,4)); \n",
    "ax.plot(t*1000, np.real(s2), 'rwth');\n",
    "ax.set_xlabel(r'$\\rightarrow t$ [ms]', bbox=ient_wbbox); ax.set_ylabel(r'$\\uparrow \\mathcal{F}^{-1}\\{S(f)\\}$', bbox=ient_wbbox)\n",
    "ax.set_xlim([-11, 11]); ax.set_ylim([-1.1, 1.19]); ient_axis(ax);"
   ]
  },
  {
   "cell_type": "markdown",
   "metadata": {},
   "source": [
    "## Laplace Transform"
   ]
  },
  {
   "cell_type": "markdown",
   "metadata": {},
   "source": [
    "Pole-zero plot is explained in [Plots](Plots.ipynb)"
   ]
  },
  {
   "cell_type": "markdown",
   "metadata": {},
   "source": [
    "Inverse Laplace Transform"
   ]
  },
  {
   "cell_type": "code",
   "execution_count": null,
   "metadata": {},
   "outputs": [],
   "source": [
    "fig,axs = plt.subplots(1,2, figsize=(10, 4))\n",
    "\n",
    "t = np.linspace(-6, 6, 1024)\n",
    "f = np.linspace(-6, 6, 1024)\n",
    "\n",
    "pp = np.array([-2]); pz = np.array([]) # Poles and Zeros\n",
    "ord_p = np.array([1]); ord_z = np.array([]) # Poles' and Zeros' orders\n",
    "roc = np.array([-2, np.inf]) # region of convergence\n",
    "H0 = 1\n",
    "\n",
    "# Time Domain\n",
    "s1, t1d , s1d = ient_ilaplace_ht(t, H0, pp, pz, ord_p, ord_z, roc)\n",
    "\n",
    "axs[0].set_xlabel(r'$\\rightarrow t$'); axs[0].set_ylabel(r'$\\uparrow s_1(t)$'); ient_grid(axs[0]); ient_axis(axs[0])\n",
    "axs[0].set_xlim([-5.5,5.5]); axs[0].set_ylim([-0.1,1.05]); \n",
    "axs[0].plot(t, np.real(s1), **ient_style_graph)\n",
    "ient_plot_dirac(axs[0], t1d, s1d);\n",
    "\n",
    "# Frequency Domain\n",
    "S1f = ient_ilaplace_Hf(f, H0, pp, pz, ord_p, ord_z, dB=False)\n",
    "\n",
    "axs[1].set_xlabel(r'$\\rightarrow f$'); axs[1].set_ylabel(r'$\\uparrow S_1(f)$'); ient_grid(axs[1]); ient_axis(axs[1])\n",
    "axs[1].set_xlim([-5.5,5.5]); axs[1].set_ylim([-0.1,0.55]); \n",
    "axs[1].plot(f, S1f, **ient_style_graph); "
   ]
  },
  {
   "cell_type": "markdown",
   "metadata": {},
   "source": [
    "This code is licensed under the [MIT license](https://opensource.org/licenses/MIT)."
   ]
  },
  {
   "cell_type": "code",
   "execution_count": null,
   "metadata": {},
   "outputs": [],
   "source": []
  }
 ],
 "metadata": {
  "kernelspec": {
   "display_name": "Python 3",
   "language": "python",
   "name": "python3"
  },
  "language_info": {
   "codemirror_mode": {
    "name": "ipython",
    "version": 3
   },
   "file_extension": ".py",
   "mimetype": "text/x-python",
   "name": "python",
   "nbconvert_exporter": "python",
   "pygments_lexer": "ipython3",
   "version": "3.6.7"
  }
 },
 "nbformat": 4,
 "nbformat_minor": 2
}
