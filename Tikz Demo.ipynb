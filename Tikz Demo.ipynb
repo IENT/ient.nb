{
 "cells": [
  {
   "cell_type": "markdown",
   "metadata": {},
   "source": [
    "<div>\n",
    "    <img src=\"figures/rwth_ient_logo@2x.png\" style=\"float: right;height: 5em;\">\n",
    "</div>\n",
    "\n",
    "# TikZ Demo\n",
    "\n",
    "This notebook shows how to draw (simple) TikZ figures."
   ]
  },
  {
   "cell_type": "markdown",
   "metadata": {
    "slideshow": {
     "slide_type": "fragment"
    }
   },
   "source": [
    "First, load the external tikzmagic definitions"
   ]
  },
  {
   "cell_type": "code",
   "execution_count": null,
   "metadata": {},
   "outputs": [],
   "source": [
    "%reload_ext ient_tikzmagic"
   ]
  },
  {
   "cell_type": "markdown",
   "metadata": {},
   "source": [
    "Then, indicate with `%%tikz` that the code block has to be interpreted by the tikzmagic"
   ]
  },
  {
   "cell_type": "code",
   "execution_count": null,
   "metadata": {},
   "outputs": [],
   "source": [
    "%%tikz --size 200,100\n",
    "\\tikzstyle{line} = [draw,black,-latex,shorten >=1pt,shorten <=1pt]\n",
    "\\tikzstyle{sig} = [inner sep=0pt]\n",
    "\\tikzstyle{block} = [draw, fill=white]\n",
    "\n",
    "\\node[block](h){$h(t)$};\n",
    "\\node[sig,left=.5 of h](s){$s(t)$};\n",
    "\\node[sig,right=.5 of h](g){$g(t)$};\n",
    "\\draw[line](s)--(h);\n",
    "\\draw[line](h)--(g);"
   ]
  },
  {
   "cell_type": "code",
   "execution_count": null,
   "metadata": {},
   "outputs": [],
   "source": []
  }
 ],
 "metadata": {
  "kernelspec": {
   "display_name": "Python 3",
   "language": "python",
   "name": "python3"
  },
  "language_info": {
   "codemirror_mode": {
    "name": "ipython",
    "version": 3
   },
   "file_extension": ".py",
   "mimetype": "text/x-python",
   "name": "python",
   "nbconvert_exporter": "python",
   "pygments_lexer": "ipython3",
   "version": "3.6.7"
  }
 },
 "nbformat": 4,
 "nbformat_minor": 2
}
